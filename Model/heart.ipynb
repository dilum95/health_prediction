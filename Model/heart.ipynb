{
 "cells": [
  {
   "cell_type": "code",
   "execution_count": 1,
   "id": "28129be1",
   "metadata": {},
   "outputs": [],
   "source": [
    "\n",
    "import pandas as pd \n",
    "\n",
    "from sklearn.preprocessing import LabelEncoder\n",
    "from sklearn.model_selection import GridSearchCV\n",
    "from sklearn.model_selection import KFold\n",
    "from sklearn.model_selection import train_test_split\n",
    "from sklearn.metrics import confusion_matrix\n",
    "from sklearn.metrics import classification_report\n",
    "from sklearn import preprocessing\n",
    "from sklearn.metrics import accuracy_score\n",
    "from sklearn.model_selection import RepeatedStratifiedKFold\n",
    "\n",
    "from sklearn.linear_model import LogisticRegression\n",
    "from sklearn.tree import DecisionTreeClassifier\n",
    "from sklearn.neighbors import KNeighborsClassifier\n",
    "from sklearn.naive_bayes import GaussianNB"
   ]
  },
  {
   "cell_type": "code",
   "execution_count": 2,
   "id": "b36d387e",
   "metadata": {},
   "outputs": [
    {
     "name": "stdout",
     "output_type": "stream",
     "text": [
      "     Age  Sex  Chest pain type   BP  Cholesterol  FBS over 120  EKG results  \\\n",
      "0     70    1                4  130          322             0            2   \n",
      "1     67    0                3  115          564             0            2   \n",
      "2     57    1                2  124          261             0            0   \n",
      "3     64    1                4  128          263             0            0   \n",
      "4     74    0                2  120          269             0            2   \n",
      "..   ...  ...              ...  ...          ...           ...          ...   \n",
      "265   52    1                3  172          199             1            0   \n",
      "266   44    1                2  120          263             0            0   \n",
      "267   56    0                2  140          294             0            2   \n",
      "268   57    1                4  140          192             0            0   \n",
      "269   67    1                4  160          286             0            2   \n",
      "\n",
      "     Max HR  Exercise angina  ST depression  Slope of ST  \\\n",
      "0       109                0            2.4            2   \n",
      "1       160                0            1.6            2   \n",
      "2       141                0            0.3            1   \n",
      "3       105                1            0.2            2   \n",
      "4       121                1            0.2            1   \n",
      "..      ...              ...            ...          ...   \n",
      "265     162                0            0.5            1   \n",
      "266     173                0            0.0            1   \n",
      "267     153                0            1.3            2   \n",
      "268     148                0            0.4            2   \n",
      "269     108                1            1.5            2   \n",
      "\n",
      "     Number of vessels fluro  Thallium Heart Disease  \n",
      "0                          3         3      Presence  \n",
      "1                          0         7       Absence  \n",
      "2                          0         7      Presence  \n",
      "3                          1         7       Absence  \n",
      "4                          1         3       Absence  \n",
      "..                       ...       ...           ...  \n",
      "265                        0         7       Absence  \n",
      "266                        0         7       Absence  \n",
      "267                        0         3       Absence  \n",
      "268                        0         6       Absence  \n",
      "269                        3         3      Presence  \n",
      "\n",
      "[270 rows x 14 columns]\n"
     ]
    }
   ],
   "source": [
    "data_2 = pd.read_csv(r'Heart_Disease_Prediction.csv')\n",
    "print(data_2)\n",
    "\n",
    "data_2=data_2.fillna(0) # fill NAs  with 0 \n",
    "\n",
    "X = data_2.drop(['Heart Disease'], axis=1)\n",
    "y=Heart_Disease=data_2[\"Heart Disease\"]\n",
    "X_train, X_test, y_train, y_test = train_test_split(X, y, test_size=0.33)"
   ]
  },
  {
   "cell_type": "code",
   "execution_count": 12,
   "id": "876b6eb0",
   "metadata": {},
   "outputs": [
    {
     "name": "stdout",
     "output_type": "stream",
     "text": [
      "0.788342525\n",
      "[[40  9]\n",
      " [ 8 33]]\n",
      "              precision    recall  f1-score   support\n",
      "\n",
      "     Absence       0.83      0.82      0.82        49\n",
      "    Presence       0.79      0.80      0.80        41\n",
      "\n",
      "    accuracy                           0.81        90\n",
      "   macro avg       0.81      0.81      0.81        90\n",
      "weighted avg       0.81      0.81      0.81        90\n",
      "\n"
     ]
    }
   ],
   "source": [
    "# KNN\n",
    "from sklearn.neighbors import KNeighborsClassifier\n",
    "# Select an algorithm\n",
    "algorithm = KNeighborsClassifier()\n",
    "seed = 13\n",
    "kfold = KFold(n_splits=3, shuffle=True, random_state=seed)\n",
    "# Define our candidate hyperparameters\n",
    "hp_candidates = [{'n_neighbors': [2,3,4,5,6], 'weights': ['uniform','distance']}]\n",
    "# Search for best hyperparameters\n",
    "grid = GridSearchCV(estimator=algorithm, param_grid=hp_candidates, cv=kfold, scoring='r2')\n",
    "knn =grid.fit(X_train, y_train)\n",
    "\n",
    "# Get the results\n",
    "print(grid.best_score_)\n",
    "print(grid.best_estimator_)\n",
    "print(grid.best_params_) \n",
    "# Create 3 folds\n",
    "\n",
    "knn_predictions = knn.predict(X_test) \n",
    "cm = confusion_matrix(y_test, knn_predictions)\n",
    "print(cm)\n",
    "classification_report(y_test, knn_predictions)\n",
    "# accuracy on X_test\n",
    "accuracy = knn.score(X_test, y_test)\n",
    "print(accuracy)\n"
   ]
  },
  {
   "cell_type": "code",
   "execution_count": 10,
   "id": "0d84bba4",
   "metadata": {},
   "outputs": [
    {
     "name": "stdout",
     "output_type": "stream",
     "text": [
      "0.8\n",
      "[[36 13]\n",
      " [ 5 36]]\n",
      "              precision    recall  f1-score   support\n",
      "\n",
      "     Absence       0.88      0.73      0.80        49\n",
      "    Presence       0.73      0.88      0.80        41\n",
      "\n",
      "    accuracy                           0.80        90\n",
      "   macro avg       0.81      0.81      0.80        90\n",
      "weighted avg       0.81      0.80      0.80        90\n",
      "\n"
     ]
    }
   ],
   "source": [
    "#Naïve Bayes\n",
    "from sklearn.naive_bayes import GaussianNB\n",
    "gnb_clf=GaussianNB()\n",
    "parameters = {\n",
    "    'var_smoothing': [1e-2, 1e-3, 1e-4, 1e-5, 1e-6, 1e-7, 1e-8, 1e-9, 1e-10, 1e-11, 1e-12, 1e-13, 1e-14, 1e-15]\n",
    "}\n",
    "clf = GridSearchCV(gnb_clf, parameters, cv=5)\n",
    "gnb=clf.fit(X_train, y_train)\n",
    "\n",
    "\n",
    "gnb_predictions = gnb.predict(X_test)\n",
    "  \n",
    "# accuracy on X_test\n",
    "accuracy = gnb.score(X_test, y_test)\n",
    "print(accuracy)\n",
    "  \n",
    "# creating a confusion matrix\n",
    "cm = confusion_matrix(y_test, gnb_predictions)\n",
    "print(cm)\n",
    "creport=classification_report(y_test, gnb_predictions)\n",
    "print(creport)"
   ]
  },
  {
   "cell_type": "code",
   "execution_count": 11,
   "id": "eaee3e20",
   "metadata": {},
   "outputs": [
    {
     "name": "stdout",
     "output_type": "stream",
     "text": [
      "0.8111111111111111\n",
      "[[40  9]\n",
      " [ 8 33]]\n",
      "              precision    recall  f1-score   support\n",
      "\n",
      "     Absence       0.83      0.82      0.82        49\n",
      "    Presence       0.79      0.80      0.80        41\n",
      "\n",
      "    accuracy                           0.81        90\n",
      "   macro avg       0.81      0.81      0.81        90\n",
      "weighted avg       0.81      0.81      0.81        90\n",
      "\n"
     ]
    }
   ],
   "source": [
    "#Logistic Regression \n",
    "from sklearn.linear_model import LogisticRegression\n",
    "from sklearn.model_selection import RepeatedStratifiedKFold\n",
    "model = LogisticRegression(solver='liblinear')\n",
    "\n",
    "c_values = [100, 10, 1.0, 0.1, 0.01]\n",
    "# define grid search\n",
    "grid = dict(C=c_values)\n",
    "cv = RepeatedStratifiedKFold(n_splits=10, n_repeats=3, random_state=1)\n",
    "grid_search = GridSearchCV(estimator=model, param_grid=grid, n_jobs=1, cv=cv)\n",
    "grid_result = grid_search.fit(X_train, y_train)\n",
    "\n",
    "\n",
    "logreg=model.fit(X_train, y_train)\n",
    "log_predictions = grid_result.predict(X_test)\n",
    "\n",
    "# accuracy on X_test\n",
    "accuracy = grid_result.score(X_test, y_test)\n",
    "print(accuracy)\n",
    "  \n",
    "# creating a confusion matrix\n",
    "cm = confusion_matrix(y_test, log_predictions)\n",
    "print(cm)\n",
    "clas_report=classification_report(y_test, log_predictions)\n",
    "print(clas_report)"
   ]
  },
  {
   "cell_type": "code",
   "execution_count": 21,
   "id": "720fb159",
   "metadata": {},
   "outputs": [],
   "source": [
    "import pickle\n",
    "with open('model_heart2','wb') as file:\n",
    "    pickle.dump(grid_result,file)"
   ]
  },
  {
   "cell_type": "code",
   "execution_count": null,
   "id": "f28f9594",
   "metadata": {},
   "outputs": [],
   "source": [
    "with open('model_heart','rb') as file:\n",
    "    mp = pickle.load(file)\n",
    "\n",
    "print(X_test)    \n",
    "pre=mp.predict([4,90,88,47,54,37.5,0.365,29])\n",
    "print(pre)"
   ]
  },
  {
   "cell_type": "code",
   "execution_count": 13,
   "id": "df983c9a",
   "metadata": {},
   "outputs": [
    {
     "name": "stdout",
     "output_type": "stream",
     "text": [
      "0.83255222\n",
      "[[40  9]\n",
      " [ 8 33]]\n",
      "              precision    recall  f1-score   support\n",
      "\n",
      "     Absence       0.83      0.82      0.82        49\n",
      "    Presence       0.79      0.80      0.80        41\n",
      "\n",
      "    accuracy                           0.81        90\n",
      "   macro avg       0.81      0.81      0.81        90\n",
      "weighted avg       0.81      0.81      0.81        90\n",
      "\n"
     ]
    }
   ],
   "source": [
    "#Decision Tree algorithms\n",
    "from sklearn.tree import DecisionTreeClassifier\n",
    "model= DecisionTreeClassifier()\n",
    "parameters={\n",
    "            \"max_depth\" : [7,9,11,12,15],\n",
    "           \"min_samples_leaf\":[50,10,100],\n",
    "           \"min_weight_fraction_leaf\":[0.0001,0.2,0.3,0.4,0.5,0.6,0.7,0.8,0.9],\n",
    "           \"max_leaf_nodes\":[None,1,20,30,40,50,60,70,80,90] }\n",
    "\n",
    "tuning_model=GridSearchCV(estimator=model,param_grid=parameters,cv=3,verbose=3)\n",
    "\n",
    "dtree_model =tuning_model.fit(X_train, y_train)\n",
    "\n",
    "#dtree_model = DecisionTreeClassifier(max_depth = 15).fit(X_train, y_train)\n",
    "dtree_predictions = dtree_model.predict(X_test)\n",
    "accuracy = dtree_model.score(X_test, y_test)\n",
    "print(accuracy)  \n",
    "# creating a confusion matrix\n",
    "cm = confusion_matrix(y_test, dtree_predictions)\n",
    "print(cm)\n",
    "\n",
    "cls_report=classification_report(y_test, dtree_predictions)\n",
    "print(cls_report)"
   ]
  },
  {
   "cell_type": "code",
   "execution_count": 1,
   "id": "b29500bb",
   "metadata": {},
   "outputs": [],
   "source": [
    "import pickle\n",
    "import numpy as np \n",
    "import pandas as pd\n",
    "with open('model_heart2','rb') as file:\n",
    "    mp = pickle.load(file)"
   ]
  },
  {
   "cell_type": "code",
   "execution_count": 2,
   "id": "753db9d3",
   "metadata": {},
   "outputs": [
    {
     "name": "stdout",
     "output_type": "stream",
     "text": [
      "[70.0, 1.0, 4, 130.3, 322, 0, 2, 109, 0, 2.4, 2, 3, 3]\n",
      "['Presence']\n"
     ]
    },
    {
     "name": "stderr",
     "output_type": "stream",
     "text": [
      "/home/dilum/.local/lib/python3.9/site-packages/sklearn/base.py:450: UserWarning: X does not have valid feature names, but LogisticRegression was fitted with feature names\n",
      "  warnings.warn(\n"
     ]
    }
   ],
   "source": [
    "X_test_new = [70.0,1.0,4,130.3,322,0,2,109,0,2.4,2,3,3]\n",
    "print(X_test_new)\n",
    "datanew=pd.DataFrame(X_test_new).transpose()\n",
    "pre=mp.predict(datanew)\n",
    "print(pre)"
   ]
  },
  {
   "cell_type": "code",
   "execution_count": null,
   "id": "e5781798",
   "metadata": {},
   "outputs": [],
   "source": []
  }
 ],
 "metadata": {
  "kernelspec": {
   "display_name": "Python 3 (ipykernel)",
   "language": "python",
   "name": "python3"
  },
  "language_info": {
   "codemirror_mode": {
    "name": "ipython",
    "version": 3
   },
   "file_extension": ".py",
   "mimetype": "text/x-python",
   "name": "python",
   "nbconvert_exporter": "python",
   "pygments_lexer": "ipython3",
   "version": "3.9.7"
  }
 },
 "nbformat": 4,
 "nbformat_minor": 5
}
